{
  "nbformat": 4,
  "nbformat_minor": 0,
  "metadata": {
    "colab": {
      "provenance": [],
      "gpuType": "T4"
    },
    "kernelspec": {
      "name": "python3",
      "display_name": "Python 3"
    },
    "language_info": {
      "name": "python"
    },
    "accelerator": "GPU"
  },
  "cells": [
    {
      "cell_type": "code",
      "execution_count": null,
      "metadata": {
        "id": "-50AbTRLCh5D"
      },
      "outputs": [],
      "source": [
        "\"\"\"下载代码\n",
        "\"\"\"\n",
        "%cd /content/\n",
        "!git clone https://github.com/billvsme/my_openai_api.git"
      ]
    },
    {
      "cell_type": "code",
      "source": [
        "\"\"\"下载模型\n",
        "\"\"\"\n",
        "%cd /content/my_openai_api\n",
        "!git clone --depth=1 https://huggingface.co/baichuan-inc/Baichuan2-13B-Chat-4bits"
      ],
      "metadata": {
        "id": "vtbxBPhlC60S"
      },
      "execution_count": null,
      "outputs": []
    },
    {
      "cell_type": "code",
      "source": [
        "\"\"\"安装环境\n",
        "\"\"\"\n",
        "%cd /content/my_openai_api\n",
        "\n",
        "!apt install python3.10-venv\n",
        "!mkdir ~/.venv\n",
        "!python -m venv ~/.venv/ai\n",
        "!~/.venv/ai/bin/pip install -r requirements.txt"
      ],
      "metadata": {
        "id": "33opJSj6DVYr"
      },
      "execution_count": null,
      "outputs": []
    },
    {
      "cell_type": "code",
      "source": [
        "\"\"\"运行\n",
        "\"\"\"\n",
        "%cd /content/my_openai_api\n",
        "# 获取ngrok的tokn，https://dashboard.ngrok.com/get-started/your-authtoken\n",
        "# 注意不要带双引号\n",
        "%env NGROK_AUTHTOKEN=yourtoken\n",
        "!~/.venv/ai/bin/python my_openai_api.py"
      ],
      "metadata": {
        "id": "NKGQRhxkDddZ"
      },
      "execution_count": null,
      "outputs": []
    }
  ]
}